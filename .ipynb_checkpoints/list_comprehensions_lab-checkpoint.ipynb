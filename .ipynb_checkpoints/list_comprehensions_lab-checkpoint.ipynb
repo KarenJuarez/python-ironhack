{
 "cells": [
  {
   "cell_type": "raw",
   "metadata": {},
   "source": [
    "# 1. Use a list comprehension to create and print a list of consecutive integers starting with 1 and ending with 50"
   ]
  },
  {
   "cell_type": "code",
   "execution_count": 15,
   "metadata": {},
   "outputs": [
    {
     "data": {
      "text/plain": [
       "[1,\n",
       " 2,\n",
       " 3,\n",
       " 4,\n",
       " 5,\n",
       " 6,\n",
       " 7,\n",
       " 8,\n",
       " 9,\n",
       " 10,\n",
       " 11,\n",
       " 12,\n",
       " 13,\n",
       " 14,\n",
       " 15,\n",
       " 16,\n",
       " 17,\n",
       " 18,\n",
       " 19,\n",
       " 20,\n",
       " 21,\n",
       " 22,\n",
       " 23,\n",
       " 24,\n",
       " 25,\n",
       " 26,\n",
       " 27,\n",
       " 28,\n",
       " 29,\n",
       " 30,\n",
       " 31,\n",
       " 32,\n",
       " 33,\n",
       " 34,\n",
       " 35,\n",
       " 36,\n",
       " 37,\n",
       " 38,\n",
       " 39,\n",
       " 40,\n",
       " 41,\n",
       " 42,\n",
       " 43,\n",
       " 44,\n",
       " 45,\n",
       " 46,\n",
       " 47,\n",
       " 48,\n",
       " 49,\n",
       " 50]"
      ]
     },
     "execution_count": 15,
     "metadata": {},
     "output_type": "execute_result"
    }
   ],
   "source": [
    "list=[]\n",
    "for i in range(1,51):\n",
    "    list.append(i)\n",
    "list"
   ]
  },
  {
   "cell_type": "raw",
   "metadata": {},
   "source": [
    "2. Use a list comprehension to create and print a list of even numbers starting with 2 and ending with 200."
   ]
  },
  {
   "cell_type": "code",
   "execution_count": 17,
   "metadata": {},
   "outputs": [
    {
     "data": {
      "text/plain": [
       "[2,\n",
       " 4,\n",
       " 6,\n",
       " 8,\n",
       " 10,\n",
       " 12,\n",
       " 14,\n",
       " 16,\n",
       " 18,\n",
       " 20,\n",
       " 22,\n",
       " 24,\n",
       " 26,\n",
       " 28,\n",
       " 30,\n",
       " 32,\n",
       " 34,\n",
       " 36,\n",
       " 38,\n",
       " 40,\n",
       " 42,\n",
       " 44,\n",
       " 46,\n",
       " 48,\n",
       " 50,\n",
       " 52,\n",
       " 54,\n",
       " 56,\n",
       " 58,\n",
       " 60,\n",
       " 62,\n",
       " 64,\n",
       " 66,\n",
       " 68,\n",
       " 70,\n",
       " 72,\n",
       " 74,\n",
       " 76,\n",
       " 78,\n",
       " 80,\n",
       " 82,\n",
       " 84,\n",
       " 86,\n",
       " 88,\n",
       " 90,\n",
       " 92,\n",
       " 94,\n",
       " 96,\n",
       " 98,\n",
       " 100,\n",
       " 102,\n",
       " 104,\n",
       " 106,\n",
       " 108,\n",
       " 110,\n",
       " 112,\n",
       " 114,\n",
       " 116,\n",
       " 118,\n",
       " 120,\n",
       " 122,\n",
       " 124,\n",
       " 126,\n",
       " 128,\n",
       " 130,\n",
       " 132,\n",
       " 134,\n",
       " 136,\n",
       " 138,\n",
       " 140,\n",
       " 142,\n",
       " 144,\n",
       " 146,\n",
       " 148,\n",
       " 150,\n",
       " 152,\n",
       " 154,\n",
       " 156,\n",
       " 158,\n",
       " 160,\n",
       " 162,\n",
       " 164,\n",
       " 166,\n",
       " 168,\n",
       " 170,\n",
       " 172,\n",
       " 174,\n",
       " 176,\n",
       " 178,\n",
       " 180,\n",
       " 182,\n",
       " 184,\n",
       " 186,\n",
       " 188,\n",
       " 190,\n",
       " 192,\n",
       " 194,\n",
       " 196,\n",
       " 198,\n",
       " 200]"
      ]
     },
     "execution_count": 17,
     "metadata": {},
     "output_type": "execute_result"
    }
   ],
   "source": [
    "evenlist=[]\n",
    "for i in range(1,101):\n",
    "    i=i*2\n",
    "    evenlist.append(i)\n",
    "evenlist    "
   ]
  },
  {
   "cell_type": "raw",
   "metadata": {},
   "source": [
    "3. Use a list comprehension to create and print a list containing all elements of the 10 x 4 Numpy array below."
   ]
  },
  {
   "cell_type": "code",
   "execution_count": 69,
   "metadata": {},
   "outputs": [
    {
     "name": "stdout",
     "output_type": "stream",
     "text": [
      "[0.84062117, 0.48006452, 0.7876326, 0.77109654, 0.44409793, 0.09014516, 0.81835917, 0.87645456, 0.7066597, 0.09610873, 0.41247947, 0.57433389, 0.29960807, 0.42315023, 0.34452557, 0.4751035, 0.17003563, 0.46843998, 0.92796258, 0.69814654, 0.41290051, 0.19561071, 0.16284783, 0.97016248, 0.71725408, 0.87702738, 0.31244595, 0.76615487, 0.20754036, 0.57871812, 0.07214068, 0.40356048, 0.12149553, 0.53222417, 0.9976855, 0.12536346, 0.80930099, 0.50962849, 0.94555126, 0.33364763]\n"
     ]
    }
   ],
   "source": [
    "a = np.array([[0.84062117, 0.48006452, 0.7876326 , 0.77109654],\n",
    "       [0.44409793, 0.09014516, 0.81835917, 0.87645456],\n",
    "       [0.7066597 , 0.09610873, 0.41247947, 0.57433389],\n",
    "       [0.29960807, 0.42315023, 0.34452557, 0.4751035 ],\n",
    "       [0.17003563, 0.46843998, 0.92796258, 0.69814654],\n",
    "       [0.41290051, 0.19561071, 0.16284783, 0.97016248],\n",
    "       [0.71725408, 0.87702738, 0.31244595, 0.76615487],\n",
    "       [0.20754036, 0.57871812, 0.07214068, 0.40356048],\n",
    "       [0.12149553, 0.53222417, 0.9976855 , 0.12536346],\n",
    "       [0.80930099, 0.50962849, 0.94555126, 0.33364763]])\n",
    "\n",
    "#Extraer todos los numeros del array\n",
    "list1=[]\n",
    "for i in range(len(a)): #Este ciclo itera en las filas\n",
    "    for j in range(len(a[i])): # este ciclo itera sobre las columnas\n",
    "        a[i][j]\n",
    "        list1.append(a[i][j])\n",
    "print(list1)        \n"
   ]
  },
  {
   "cell_type": "raw",
   "metadata": {},
   "source": [
    "4. Add a condition to the list comprehension above so that only values greater than or equal to 0.5 are printed"
   ]
  },
  {
   "cell_type": "code",
   "execution_count": 72,
   "metadata": {},
   "outputs": [
    {
     "name": "stdout",
     "output_type": "stream",
     "text": [
      "[0.84062117, 0.7876326, 0.77109654, 0.81835917, 0.87645456, 0.7066597, 0.57433389, 0.92796258, 0.69814654, 0.97016248, 0.71725408, 0.87702738, 0.76615487, 0.57871812, 0.53222417, 0.9976855, 0.80930099, 0.50962849, 0.94555126]\n"
     ]
    }
   ],
   "source": [
    "list1=[]\n",
    "for i in range(len(a)): #Este ciclo itera en las filas\n",
    "    for j in range(len(a[i])): # este ciclo itera sobre las columnas\n",
    "        b=a[i][j]\n",
    "        if b>=0.5:\n",
    "            list1.append(b)\n",
    "        \n",
    "print(list1)   "
   ]
  },
  {
   "cell_type": "raw",
   "metadata": {},
   "source": [
    "5. Use a list comprehension to create and print a list containing all elements of the 5 x 2 x 3 Numpy array below"
   ]
  },
  {
   "cell_type": "code",
   "execution_count": 4,
   "metadata": {},
   "outputs": [],
   "source": [
    "b = np.array([[[0.55867166, 0.06210792, 0.08147297],\n",
    "        [0.82579068, 0.91512478, 0.06833034]],\n",
    "\n",
    "       [[0.05440634, 0.65857693, 0.30296619],\n",
    "        [0.06769833, 0.96031863, 0.51293743]],\n",
    "\n",
    "       [[0.09143215, 0.71893382, 0.45850679],\n",
    "        [0.58256464, 0.59005654, 0.56266457]],\n",
    "\n",
    "       [[0.71600294, 0.87392666, 0.11434044],\n",
    "        [0.8694668 , 0.65669313, 0.10708681]],\n",
    "\n",
    "       [[0.07529684, 0.46470767, 0.47984544],\n",
    "        [0.65368638, 0.14901286, 0.23760688]]])"
   ]
  },
  {
   "cell_type": "code",
   "execution_count": 83,
   "metadata": {},
   "outputs": [
    {
     "data": {
      "text/plain": [
       "[0.55867166,\n",
       " 0.06210792,\n",
       " 0.08147297,\n",
       " 0.82579068,\n",
       " 0.91512478,\n",
       " 0.06833034,\n",
       " 0.05440634,\n",
       " 0.65857693,\n",
       " 0.30296619,\n",
       " 0.06769833,\n",
       " 0.96031863,\n",
       " 0.51293743,\n",
       " 0.09143215,\n",
       " 0.71893382,\n",
       " 0.45850679,\n",
       " 0.58256464,\n",
       " 0.59005654,\n",
       " 0.56266457,\n",
       " 0.71600294,\n",
       " 0.87392666,\n",
       " 0.11434044,\n",
       " 0.8694668,\n",
       " 0.65669313,\n",
       " 0.10708681,\n",
       " 0.07529684,\n",
       " 0.46470767,\n",
       " 0.47984544,\n",
       " 0.65368638,\n",
       " 0.14901286,\n",
       " 0.23760688]"
      ]
     },
     "execution_count": 83,
     "metadata": {},
     "output_type": "execute_result"
    }
   ],
   "source": [
    "list2=[]\n",
    "for i in range(len(b)):\n",
    "    for j in range(len(b[i])):\n",
    "        for k in range(len(b[i][j])):\n",
    "            c=b[i][j][k]\n",
    "            list2.append(c)\n",
    "list2           "
   ]
  },
  {
   "cell_type": "raw",
   "metadata": {},
   "source": [
    "5. Add a condition to the list comprehension above so that the last value in each subarray is printed, but only if it is less than or equal to 0.5."
   ]
  },
  {
   "cell_type": "code",
   "execution_count": 5,
   "metadata": {},
   "outputs": [
    {
     "name": "stdout",
     "output_type": "stream",
     "text": [
      "0.08147297\n",
      "0.06833034\n",
      "0.30296619\n",
      "0.51293743\n",
      "0.45850679\n",
      "0.56266457\n",
      "0.11434044\n",
      "0.10708681\n",
      "0.47984544\n",
      "0.23760688\n"
     ]
    },
    {
     "data": {
      "text/plain": [
       "[0.08147297,\n",
       " 0.06833034,\n",
       " 0.30296619,\n",
       " 0.45850679,\n",
       " 0.11434044,\n",
       " 0.10708681,\n",
       " 0.47984544,\n",
       " 0.23760688]"
      ]
     },
     "execution_count": 5,
     "metadata": {},
     "output_type": "execute_result"
    }
   ],
   "source": [
    "list2=[]\n",
    "for i in range(len(b)): #Recorre todos los elementos (0,4)\n",
    "    for j in range(len(b[i])): #(0,1)\n",
    "        for k in range(len(b[i][j])):#(0,2)\n",
    "            c=b[i][j][-1]\n",
    "        print(c)\n",
    "        if c<=0.5:\n",
    "            list2.append(c)\n",
    "list2            \n"
   ]
  },
  {
   "cell_type": "raw",
   "metadata": {},
   "source": [
    "6. Use a list comprehension to select and print the names of all CSV files in the /data directory"
   ]
  },
  {
   "cell_type": "code",
   "execution_count": 2,
   "metadata": {},
   "outputs": [],
   "source": [
    "#Extraer los nombres de archivos en una carpeta\n",
    "import os\n",
    "os.getcwd()\n",
    "os.chdir('C:\\\\Users\\\\karen\\\\Downloads')\n"
   ]
  },
  {
   "cell_type": "code",
   "execution_count": 86,
   "metadata": {},
   "outputs": [
    {
     "data": {
      "text/plain": [
       "['192251_136963789779396_1391458168_o.jpg',\n",
       " 'Anaconda3-2019.10-Windows-x86_64.exe',\n",
       " 'bi.ppk',\n",
       " 'desktop.ini',\n",
       " 'FileZilla_3.47.0_win64_sponsored-setup.exe',\n",
       " 'FileZilla_3.47.1_win64-setup.exe',\n",
       " 'firmamujeres.png',\n",
       " 'FlotaSD.csv',\n",
       " 'Git-2.25.0-64-bit.exe',\n",
       " 'GitHubDesktopSetup.exe',\n",
       " 'JAFRA_OP_febrero_2020.pdf',\n",
       " 'lienzo-tela-noche-estrellada-sobre-rodano-van-gogh-150x195-D_NQ_NP_625021-MLM20678543623_042016-F.webp',\n",
       " 'mysql-installer-community-8.0.19.0.msi',\n",
       " 'node-v12.16.1-x64.msi',\n",
       " 'putty-64bit-0.73-installer.msi',\n",
       " 'pycharm-community-2019.3.2.exe',\n",
       " 'python-3.8.1-amd64.exe',\n",
       " 'quiniela-oscars-2020.pdf',\n",
       " 'Reporte de servicio social 1.pdf',\n",
       " 'SevInt.csv',\n",
       " 'SlackSetup.exe',\n",
       " 'sp99450.exe',\n",
       " 'TeamViewer_Setup.exe',\n",
       " 'The-Look-Enero-2020_V-1.pdf',\n",
       " 'Untitled.ipynb',\n",
       " 'VSCodeUserSetup-x64-1.41.1.exe']"
      ]
     },
     "execution_count": 86,
     "metadata": {},
     "output_type": "execute_result"
    }
   ],
   "source": [
    "import re\n",
    "from os import listdir,scandir\n",
    "#Definimos una función que enliste los archivos de la ruta\n",
    "def ls2(path): \n",
    "    return [obj.name for obj in scandir(path) if obj.is_file()]\n",
    "names=ls2('C:\\\\Users\\\\karen\\\\Downloads')\n",
    "names"
   ]
  },
  {
   "cell_type": "code",
   "execution_count": 62,
   "metadata": {},
   "outputs": [],
   "source": [
    "#Escribir función que extraiga los nombres que contengan la extensión .exe\n",
    "pattern='\\S+csv$' #Palabras que terminen con extension que queremos y que antes de eso tengan màs de un caracter que no sea espacio en blanco \n"
   ]
  },
  {
   "cell_type": "code",
   "execution_count": 87,
   "metadata": {},
   "outputs": [
    {
     "name": "stdout",
     "output_type": "stream",
     "text": [
      "['FlotaSD.csv', 'SevInt.csv']\n"
     ]
    }
   ],
   "source": [
    "#Para cada nombre en la lista de nombres de archivos \"names\" vamos a buscar el patrón ya definido\n",
    "#Si encuentra el patrón en el nombre del archivo, imprimir el nombre\n",
    "list_names=[]\n",
    "for name in names:\n",
    "    if re.findall(pattern,name):\n",
    "        list_names.append(name)\n",
    "print(list_names)"
   ]
  },
  {
   "cell_type": "raw",
   "metadata": {},
   "source": [
    "7. Use a list comprehension and the Pandas read_csv and concat methods to read all CSV files in the /data directory and combine them into a single data frame. Display the top 10 rows of the resulting data frame."
   ]
  },
  {
   "cell_type": "code",
   "execution_count": 135,
   "metadata": {},
   "outputs": [
    {
     "name": "stdout",
     "output_type": "stream",
     "text": [
      "    MES  DIA   AÑO TIPO_DE_ORDEN  ID_SERVICIO  VALOR  \\\n",
      "0     5   28  2020           EXP      1974564  371.0   \n",
      "1     5   28  2020           EXP      1975338   66.5   \n",
      "2     5   28  2020           EXP      1976898  156.0   \n",
      "3     5   28  2020           EXP      1974348  453.0   \n",
      "4     5   28  2020           EXP      1972838  105.0   \n",
      "..  ...  ...   ...           ...          ...    ...   \n",
      "70    6    5  2020           EXP      2014141   37.0   \n",
      "71    6    5  2020           EXP      2014143   37.0   \n",
      "72    6    5  2020           EXP      2014193   93.5   \n",
      "73    6    6  2020           EXP      2016981  147.0   \n",
      "74    6    6  2020           EXP      2015972  225.0   \n",
      "\n",
      "                          EMAIL  CLIENTE  \n",
      "0       francisco.solis@ivoy.mx     2155  \n",
      "1        jade.gutierrez@ivoy.mx     2155  \n",
      "2          marco.ortega@ivoy.mx     2155  \n",
      "3            jorge.cano@ivoy.mx     2155  \n",
      "4         daniel.santos@ivoy.mx     2155  \n",
      "..                          ...      ...  \n",
      "70  cecilia.castellanos@ivoy.mx     2155  \n",
      "71  cecilia.castellanos@ivoy.mx     2155  \n",
      "72      andres.zaragoza@ivoy.mx     2155  \n",
      "73      andres.zaragoza@ivoy.mx     2155  \n",
      "74     brandon.martinez@ivoy.mx     2155  \n",
      "\n",
      "[75 rows x 8 columns]\n"
     ]
    }
   ],
   "source": [
    "#leemos los archivos enlistados anteriormente\n",
    "for i in list_names:\n",
    "    a=pd.DataFrame(pd.read_csv(i))\n",
    "    b=pd.concat([a])\n",
    "print(b)"
   ]
  },
  {
   "cell_type": "code",
   "execution_count": 106,
   "metadata": {},
   "outputs": [
    {
     "data": {
      "text/html": [
       "<div>\n",
       "<style scoped>\n",
       "    .dataframe tbody tr th:only-of-type {\n",
       "        vertical-align: middle;\n",
       "    }\n",
       "\n",
       "    .dataframe tbody tr th {\n",
       "        vertical-align: top;\n",
       "    }\n",
       "\n",
       "    .dataframe thead th {\n",
       "        text-align: right;\n",
       "    }\n",
       "</style>\n",
       "<table border=\"1\" class=\"dataframe\">\n",
       "  <thead>\n",
       "    <tr style=\"text-align: right;\">\n",
       "      <th></th>\n",
       "      <th>MES</th>\n",
       "      <th>DIA</th>\n",
       "      <th>AÑO</th>\n",
       "      <th>TIPO_DE_ORDEN</th>\n",
       "      <th>ID_SERVICIO</th>\n",
       "      <th>VALOR</th>\n",
       "      <th>EMAIL</th>\n",
       "      <th>CLIENTE</th>\n",
       "    </tr>\n",
       "  </thead>\n",
       "  <tbody>\n",
       "    <tr>\n",
       "      <td>0</td>\n",
       "      <td>5</td>\n",
       "      <td>28</td>\n",
       "      <td>2020</td>\n",
       "      <td>EXP</td>\n",
       "      <td>1974564</td>\n",
       "      <td>371.0</td>\n",
       "      <td>francisco.solis@ivoy.mx</td>\n",
       "      <td>2155</td>\n",
       "    </tr>\n",
       "    <tr>\n",
       "      <td>1</td>\n",
       "      <td>5</td>\n",
       "      <td>28</td>\n",
       "      <td>2020</td>\n",
       "      <td>EXP</td>\n",
       "      <td>1975338</td>\n",
       "      <td>66.5</td>\n",
       "      <td>jade.gutierrez@ivoy.mx</td>\n",
       "      <td>2155</td>\n",
       "    </tr>\n",
       "    <tr>\n",
       "      <td>2</td>\n",
       "      <td>5</td>\n",
       "      <td>28</td>\n",
       "      <td>2020</td>\n",
       "      <td>EXP</td>\n",
       "      <td>1976898</td>\n",
       "      <td>156.0</td>\n",
       "      <td>marco.ortega@ivoy.mx</td>\n",
       "      <td>2155</td>\n",
       "    </tr>\n",
       "    <tr>\n",
       "      <td>3</td>\n",
       "      <td>5</td>\n",
       "      <td>28</td>\n",
       "      <td>2020</td>\n",
       "      <td>EXP</td>\n",
       "      <td>1974348</td>\n",
       "      <td>453.0</td>\n",
       "      <td>jorge.cano@ivoy.mx</td>\n",
       "      <td>2155</td>\n",
       "    </tr>\n",
       "    <tr>\n",
       "      <td>4</td>\n",
       "      <td>5</td>\n",
       "      <td>28</td>\n",
       "      <td>2020</td>\n",
       "      <td>EXP</td>\n",
       "      <td>1972838</td>\n",
       "      <td>105.0</td>\n",
       "      <td>daniel.santos@ivoy.mx</td>\n",
       "      <td>2155</td>\n",
       "    </tr>\n",
       "    <tr>\n",
       "      <td>...</td>\n",
       "      <td>...</td>\n",
       "      <td>...</td>\n",
       "      <td>...</td>\n",
       "      <td>...</td>\n",
       "      <td>...</td>\n",
       "      <td>...</td>\n",
       "      <td>...</td>\n",
       "      <td>...</td>\n",
       "    </tr>\n",
       "    <tr>\n",
       "      <td>70</td>\n",
       "      <td>6</td>\n",
       "      <td>5</td>\n",
       "      <td>2020</td>\n",
       "      <td>EXP</td>\n",
       "      <td>2014141</td>\n",
       "      <td>37.0</td>\n",
       "      <td>cecilia.castellanos@ivoy.mx</td>\n",
       "      <td>2155</td>\n",
       "    </tr>\n",
       "    <tr>\n",
       "      <td>71</td>\n",
       "      <td>6</td>\n",
       "      <td>5</td>\n",
       "      <td>2020</td>\n",
       "      <td>EXP</td>\n",
       "      <td>2014143</td>\n",
       "      <td>37.0</td>\n",
       "      <td>cecilia.castellanos@ivoy.mx</td>\n",
       "      <td>2155</td>\n",
       "    </tr>\n",
       "    <tr>\n",
       "      <td>72</td>\n",
       "      <td>6</td>\n",
       "      <td>5</td>\n",
       "      <td>2020</td>\n",
       "      <td>EXP</td>\n",
       "      <td>2014193</td>\n",
       "      <td>93.5</td>\n",
       "      <td>andres.zaragoza@ivoy.mx</td>\n",
       "      <td>2155</td>\n",
       "    </tr>\n",
       "    <tr>\n",
       "      <td>73</td>\n",
       "      <td>6</td>\n",
       "      <td>6</td>\n",
       "      <td>2020</td>\n",
       "      <td>EXP</td>\n",
       "      <td>2016981</td>\n",
       "      <td>147.0</td>\n",
       "      <td>andres.zaragoza@ivoy.mx</td>\n",
       "      <td>2155</td>\n",
       "    </tr>\n",
       "    <tr>\n",
       "      <td>74</td>\n",
       "      <td>6</td>\n",
       "      <td>6</td>\n",
       "      <td>2020</td>\n",
       "      <td>EXP</td>\n",
       "      <td>2015972</td>\n",
       "      <td>225.0</td>\n",
       "      <td>brandon.martinez@ivoy.mx</td>\n",
       "      <td>2155</td>\n",
       "    </tr>\n",
       "  </tbody>\n",
       "</table>\n",
       "<p>75 rows × 8 columns</p>\n",
       "</div>"
      ],
      "text/plain": [
       "    MES  DIA   AÑO TIPO_DE_ORDEN  ID_SERVICIO  VALOR  \\\n",
       "0     5   28  2020           EXP      1974564  371.0   \n",
       "1     5   28  2020           EXP      1975338   66.5   \n",
       "2     5   28  2020           EXP      1976898  156.0   \n",
       "3     5   28  2020           EXP      1974348  453.0   \n",
       "4     5   28  2020           EXP      1972838  105.0   \n",
       "..  ...  ...   ...           ...          ...    ...   \n",
       "70    6    5  2020           EXP      2014141   37.0   \n",
       "71    6    5  2020           EXP      2014143   37.0   \n",
       "72    6    5  2020           EXP      2014193   93.5   \n",
       "73    6    6  2020           EXP      2016981  147.0   \n",
       "74    6    6  2020           EXP      2015972  225.0   \n",
       "\n",
       "                          EMAIL  CLIENTE  \n",
       "0       francisco.solis@ivoy.mx     2155  \n",
       "1        jade.gutierrez@ivoy.mx     2155  \n",
       "2          marco.ortega@ivoy.mx     2155  \n",
       "3            jorge.cano@ivoy.mx     2155  \n",
       "4         daniel.santos@ivoy.mx     2155  \n",
       "..                          ...      ...  \n",
       "70  cecilia.castellanos@ivoy.mx     2155  \n",
       "71  cecilia.castellanos@ivoy.mx     2155  \n",
       "72      andres.zaragoza@ivoy.mx     2155  \n",
       "73      andres.zaragoza@ivoy.mx     2155  \n",
       "74     brandon.martinez@ivoy.mx     2155  \n",
       "\n",
       "[75 rows x 8 columns]"
      ]
     },
     "execution_count": 106,
     "metadata": {},
     "output_type": "execute_result"
    }
   ],
   "source": [
    "#convertimos en dataframe los csv\n",
    "df1=pd.read_csv('SevInt.csv')\n",
    "df1"
   ]
  }
 ],
 "metadata": {
  "kernelspec": {
   "display_name": "Python 3",
   "language": "python",
   "name": "python3"
  },
  "language_info": {
   "codemirror_mode": {
    "name": "ipython",
    "version": 3
   },
   "file_extension": ".py",
   "mimetype": "text/x-python",
   "name": "python",
   "nbconvert_exporter": "python",
   "pygments_lexer": "ipython3",
   "version": "3.7.4"
  }
 },
 "nbformat": 4,
 "nbformat_minor": 2
}
