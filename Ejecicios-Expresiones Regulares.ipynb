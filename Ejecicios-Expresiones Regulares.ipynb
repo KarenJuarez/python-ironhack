{
 "cells": [
  {
   "cell_type": "code",
   "execution_count": 30,
   "metadata": {},
   "outputs": [],
   "source": [
    "texto = \"hla hola hoola hooola hooooola\"\n",
    "#Patrones con sintaxis repetida\n",
    "patrones = ['ho','ho*','ho*la','hu*la','ho?la','ho{3}la','ho{3,}la','ho{2,5}la']\n",
    "\n",
    "#Conjuntos de caráteres\n"
   ]
  },
  {
   "cell_type": "code",
   "execution_count": 2,
   "metadata": {},
   "outputs": [],
   "source": [
    "import re"
   ]
  },
  {
   "cell_type": "code",
   "execution_count": 31,
   "metadata": {},
   "outputs": [
    {
     "name": "stdout",
     "output_type": "stream",
     "text": [
      "['ho', 'ho', 'ho', 'ho']\n",
      "['h', 'ho', 'hoo', 'hooo', 'hooooo']\n",
      "['hla', 'hola', 'hoola', 'hooola', 'hooooola']\n",
      "['hla']\n",
      "['hla', 'hola']\n",
      "['hooola']\n",
      "['hooola', 'hooooola']\n",
      "['hoola', 'hooola', 'hooooola']\n"
     ]
    }
   ],
   "source": [
    "#Método \"findall\"\n",
    "#Lo que hace \"findall\" es regresar los patrones encontrados en forma de lista\n",
    "#crear funcion que busque en un texto la lista 'patrones'\n",
    "\n",
    "def buscar(patrones,texto):\n",
    "    for patron in patrones:\n",
    "        a=re.findall(patron,texto) \n",
    "        print(a)\n",
    "\n",
    "buscar(patrones,texto)        "
   ]
  },
  {
   "cell_type": "code",
   "execution_count": null,
   "metadata": {},
   "outputs": [],
   "source": [
    "#Ejemplos Método \"SEARCH\""
   ]
  },
  {
   "cell_type": "code",
   "execution_count": 31,
   "metadata": {},
   "outputs": [],
   "source": [
    "cadena='Vamos a aprender expresiones regulares con Python. Python es un lenguaje de sintaxis sencilla'"
   ]
  },
  {
   "cell_type": "code",
   "execution_count": 26,
   "metadata": {},
   "outputs": [],
   "source": [
    "textoBuscar='aprender ex'"
   ]
  },
  {
   "cell_type": "code",
   "execution_count": 10,
   "metadata": {},
   "outputs": [
    {
     "name": "stdout",
     "output_type": "stream",
     "text": [
      "No encontré el texto\n"
     ]
    }
   ],
   "source": [
    "#search\n",
    "if re.search(textoBuscar,cadena) is not  None : #Es None porque el método Search nos devuelve como resultado un objeto Match o None en caso de no encontrarlo \n",
    "    print(\"Encontré el texto\")\n",
    "else :\n",
    "    print(\"No encontré el texto\")"
   ]
  },
  {
   "cell_type": "code",
   "execution_count": 27,
   "metadata": {},
   "outputs": [],
   "source": [
    "textoEncontrado=re.search(textoBuscar,cadena) #almcenamos en una variable el resultado de usar el método search"
   ]
  },
  {
   "cell_type": "code",
   "execution_count": 30,
   "metadata": {},
   "outputs": [
    {
     "name": "stdout",
     "output_type": "stream",
     "text": [
      "8\n",
      "19\n",
      "(8, 19)\n"
     ]
    }
   ],
   "source": [
    "print(textoEncontrado.start()) #Nos dice el índice de la cadena en donde empieza el texto encontrado\n",
    "print(textoEncontrado.end()) #Nos dice el índice de la cadena en donde termina el texto encontrado\n",
    "print(textoEncontrado.span()) #Nos devuelve una tupla con el inicio y el final de una cadena (índices)\n"
   ]
  },
  {
   "cell_type": "code",
   "execution_count": 20,
   "metadata": {},
   "outputs": [],
   "source": [
    "lista_nombres=['Ana Gómez','María Martín','Sandra López','Santiago Martín','Sandra He','https://pandas.pydata.org','https://pandas.pydata.com','niños','niñas'\n",
    "               'Ma1','Ma2','Ma:3','Va1','Va2','Va3','Ba1','MaA','Ma5','MaB']"
   ]
  },
  {
   "cell_type": "code",
   "execution_count": 40,
   "metadata": {},
   "outputs": [
    {
     "name": "stdout",
     "output_type": "stream",
     "text": [
      "Sandra López\n",
      "Sandra He\n"
     ]
    }
   ],
   "source": [
    "#Metacaracter ^\n",
    "for elemento in lista_nombres: #Vamos a tratar a cada elemento de la lista como un objetio individual\n",
    "    if re.findall('^Sandra',elemento): #^ Nos devuelve los elementos que inicien con la cadena Sandra\n",
    "        print(elemento)"
   ]
  },
  {
   "cell_type": "code",
   "execution_count": 43,
   "metadata": {},
   "outputs": [
    {
     "name": "stdout",
     "output_type": "stream",
     "text": [
      "María Martín\n",
      "Santiago Martín\n"
     ]
    }
   ],
   "source": [
    "#Metacaracter $\n",
    "for elemento in lista_nombres: #Vamos a tratar a cada elemento de la lista como un objetio individual\n",
    "    if re.findall('Martín$',elemento): #^ Nos devuelve los elementos que terminen con la cadena Martín\n",
    "        print(elemento)"
   ]
  },
  {
   "cell_type": "code",
   "execution_count": 52,
   "metadata": {},
   "outputs": [
    {
     "name": "stdout",
     "output_type": "stream",
     "text": [
      "Ana Gómez\n",
      "https://pandas.pydata.com\n"
     ]
    }
   ],
   "source": [
    "#Metacaracter []\n",
    "#Devuelve las cadenas que contengan elementos entre corchetes\n",
    "for elemento in lista_nombres:\n",
    "    if re.findall('[m]',elemento):\n",
    "        print(elemento)"
   ]
  },
  {
   "cell_type": "code",
   "execution_count": 51,
   "metadata": {},
   "outputs": [
    {
     "name": "stdout",
     "output_type": "stream",
     "text": [
      "niños\n",
      "niñas\n"
     ]
    }
   ],
   "source": [
    "for elemento in lista_nombres:\n",
    "    if re.findall('niñ[oa]s',elemento): #Nos trae las cadenas que contengan cualquiera de los caracteres en los corchetes\n",
    "        print(elemento)"
   ]
  },
  {
   "cell_type": "code",
   "execution_count": null,
   "metadata": {},
   "outputs": [],
   "source": [
    "#Rangos"
   ]
  },
  {
   "cell_type": "code",
   "execution_count": 7,
   "metadata": {},
   "outputs": [
    {
     "name": "stdout",
     "output_type": "stream",
     "text": [
      "María Martín\n",
      "Sandra López\n",
      "Santiago Martín\n",
      "Sandra He\n",
      "https://pandas.pydata.org\n",
      "https://pandas.pydata.com\n",
      "niños\n",
      "niñas\n"
     ]
    }
   ],
   "source": [
    "for elemento in lista_nombres:\n",
    "    if re.findall('[o-t]',elemento): # Trae todos los elementos que contengan alguno de los carácteres que entre la o y la t en orden alfabético\n",
    "        print(elemento)"
   ]
  },
  {
   "cell_type": "code",
   "execution_count": 10,
   "metadata": {},
   "outputs": [
    {
     "name": "stdout",
     "output_type": "stream",
     "text": [
      "Sandra López\n",
      "Santiago Martín\n",
      "Sandra He\n"
     ]
    }
   ],
   "source": [
    "for elemento in lista_nombres:\n",
    "    if re.findall('^[O-T]',elemento): # Trae todos los elementos que empiecen con alguno de los carácteres que entre la o y la t en orden alfabético mayúsculas\n",
    "        print(elemento)"
   ]
  },
  {
   "cell_type": "code",
   "execution_count": 11,
   "metadata": {},
   "outputs": [
    {
     "name": "stdout",
     "output_type": "stream",
     "text": [
      "niños\n",
      "niñas\n"
     ]
    }
   ],
   "source": [
    "for elemento in lista_nombres:\n",
    "    if re.findall('[o-t]$',elemento): # Trae todos los elementos que terminen con alguno de los carácteres que entre la o y la t en orden alfabético minúsculas\n",
    "        print(elemento)"
   ]
  },
  {
   "cell_type": "code",
   "execution_count": 14,
   "metadata": {},
   "outputs": [
    {
     "name": "stdout",
     "output_type": "stream",
     "text": [
      "niñasMa1\n",
      "Ma2\n",
      "Ma3\n"
     ]
    }
   ],
   "source": [
    "for elemento in lista_nombres:\n",
    "    if re.findall('Ma[0-3]',elemento): # Trae todos los elementos que inicien con \"Ma\" y que vayan seguidos por un número entre el 0 y el 3\n",
    "        print(elemento)"
   ]
  },
  {
   "cell_type": "code",
   "execution_count": 15,
   "metadata": {},
   "outputs": [
    {
     "name": "stdout",
     "output_type": "stream",
     "text": [
      "María Martín\n",
      "Santiago Martín\n"
     ]
    }
   ],
   "source": [
    "#^usado como negación\n",
    "for elemento in lista_nombres:\n",
    "    if re.findall('Ma[^0-3]',elemento): # Trae todos los elementos que inicien con \"Ma\" y que NO vayan seguidos por un número entre el 0 y el 3\n",
    "        print(elemento)"
   ]
  },
  {
   "cell_type": "code",
   "execution_count": 18,
   "metadata": {},
   "outputs": [
    {
     "name": "stdout",
     "output_type": "stream",
     "text": [
      "niñasMa1\n",
      "Ma2\n",
      "Ma3\n",
      "MaA\n",
      "MaB\n"
     ]
    }
   ],
   "source": [
    "for elemento in lista_nombres:\n",
    "    if re.findall('Ma[0-3A-B]',elemento): # Trae todos los elementos que inicien con \"Ma\" y que vayan seguidos por un número entre el 0 y el 3 o una letra entre A y B\n",
    "        print(elemento)"
   ]
  },
  {
   "cell_type": "code",
   "execution_count": 24,
   "metadata": {},
   "outputs": [
    {
     "name": "stdout",
     "output_type": "stream",
     "text": [
      "Ma:3\n"
     ]
    }
   ],
   "source": [
    "for elemento in lista_nombres:\n",
    "    if re.findall('Ma[.:]',elemento): # Trae todos los elementos que inicien con \"Ma\" y que vayan seguidos por un . o por :\n",
    "        print(elemento)"
   ]
  }
 ],
 "metadata": {
  "kernelspec": {
   "display_name": "Python 3",
   "language": "python",
   "name": "python3"
  },
  "language_info": {
   "codemirror_mode": {
    "name": "ipython",
    "version": 3
   },
   "file_extension": ".py",
   "mimetype": "text/x-python",
   "name": "python",
   "nbconvert_exporter": "python",
   "pygments_lexer": "ipython3",
   "version": "3.7.4"
  }
 },
 "nbformat": 4,
 "nbformat_minor": 2
}
