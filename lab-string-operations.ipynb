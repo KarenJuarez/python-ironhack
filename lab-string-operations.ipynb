{
 "cells": [
  {
   "cell_type": "code",
   "execution_count": 26,
   "metadata": {},
   "outputs": [],
   "source": [
    "import re\n"
   ]
  },
  {
   "cell_type": "markdown",
   "metadata": {},
   "source": [
    "# Challenge 1 - Combining Strings\n"
   ]
  },
  {
   "cell_type": "raw",
   "metadata": {},
   "source": [
    "Combining strings is an important skill to acquire. There are multiple ways of combining strings in Python, as well as combining strings with variables. We will explore this in the first challenge. In the cell below, combine the strings in the list and add spaces between the strings (do not add a space after the last string). Insert a period after the last string."
   ]
  },
  {
   "cell_type": "code",
   "execution_count": 27,
   "metadata": {},
   "outputs": [],
   "source": [
    "str_list = ['Durante', 'un', 'tiempo', 'no', 'estuvo', 'segura', 'de', 'si', 'su', 'marido', 'era', 'su', 'marido']"
   ]
  },
  {
   "cell_type": "code",
   "execution_count": 59,
   "metadata": {},
   "outputs": [],
   "source": [
    "pattern='/w$'\n"
   ]
  },
  {
   "cell_type": "code",
   "execution_count": 60,
   "metadata": {},
   "outputs": [
    {
     "name": "stdout",
     "output_type": "stream",
     "text": [
      "[]\n",
      "[]\n",
      "[]\n",
      "[]\n",
      "[]\n",
      "[]\n",
      "[]\n",
      "[]\n",
      "[]\n",
      "[]\n",
      "[]\n",
      "[]\n",
      "[]\n"
     ]
    }
   ],
   "source": [
    "#en la lista encontrar el final de cada palabra e imprimirlo\n",
    "#sustituir el final d euna cadena por un espacio y combinarlos\n",
    "for i in str_list:\n",
    "    print(re.findall(pattern,i))\n",
    "    "
   ]
  },
  {
   "cell_type": "code",
   "execution_count": 39,
   "metadata": {},
   "outputs": [
    {
     "name": "stdout",
     "output_type": "stream",
     "text": [
      "['2016']\n",
      "['Este curso de Python se publicó en el año ']\n",
      "[' ', ' ', ' ', ' ', ' ', ' ', ' ', ' ', ' ']\n",
      "['Este', 'curso', 'de', 'Python', 'se', 'publicó', 'en', 'el', 'año', '2016']\n",
      "['Este', 'curso', 'de', 'Python', 'se', 'publicó', 'en', 'el', 'año', '2016']\n",
      "[' ', ' ', ' ', ' ', ' ', ' ', ' ', ' ', ' ']\n"
     ]
    }
   ],
   "source": [
    "texto = \"Este curso de Python se publicó en el año 2016\"\n",
    "\n",
    "patrones = [r'\\d+', r'\\D+', r'\\s', r'\\S+', r'\\w+', r'\\W+'] \n",
    "def buscar(patrones, texto):\n",
    "    for patron in patrones:\n",
    "        print( re.findall(patron, texto) )\n",
    "\n",
    "buscar(patrones, texto)"
   ]
  }
 ],
 "metadata": {
  "kernelspec": {
   "display_name": "Python 3",
   "language": "python",
   "name": "python3"
  },
  "language_info": {
   "codemirror_mode": {
    "name": "ipython",
    "version": 3
   },
   "file_extension": ".py",
   "mimetype": "text/x-python",
   "name": "python",
   "nbconvert_exporter": "python",
   "pygments_lexer": "ipython3",
   "version": "3.7.4"
  }
 },
 "nbformat": 4,
 "nbformat_minor": 2
}
