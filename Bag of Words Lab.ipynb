{
 "cells": [
  {
   "cell_type": "markdown",
   "metadata": {},
   "source": [
    "# The Challenge"
   ]
  },
  {
   "cell_type": "raw",
   "metadata": {},
   "source": [
    "The Challenge\n",
    "We need to create a BoW from a list of documents. The documents (doc1.txt, doc2.txt, and doc3.txt) can be found in the your-code directory of this exercise. You will read the content of each document into an array of strings named corpus.\n",
    "\n",
    "What is a corpus (plural: corpora)? Read the reference in the README file.\n",
    "\n",
    "Your challenge is to use Python to generate the BoW of these documents. Your BoW should look like below:\n",
    "\n",
    "bag_of_words = ['a', 'am', 'at', 'cool', 'i', 'ironhack', 'is', 'love', 'student']\n",
    "\n",
    "term_freq = [\n",
    "    [0, 0, 0, 1, 0, 1, 1, 0, 0],\n",
    "    [0, 0, 0, 0, 1, 1, 0, 1, 0],\n",
    "    [1, 1, 1, 0, 1, 1, 0, 0, 1],\n",
    "]\n",
    "Now let's define the docs array that contains the paths of doc1.txt, doc2.txt, and doc3.txt."
   ]
  },
  {
   "cell_type": "code",
   "execution_count": 109,
   "metadata": {},
   "outputs": [],
   "source": [
    "docs = ['doc1.txt', 'doc2.txt', 'doc3.txt']\n"
   ]
  },
  {
   "cell_type": "raw",
   "metadata": {},
   "source": [
    "Define an empty array corpus that will contain the content strings of the docs. Loop docs and read the content of each doc into the corpus array.\n"
   ]
  },
  {
   "cell_type": "code",
   "execution_count": 190,
   "metadata": {},
   "outputs": [],
   "source": [
    "import re\n",
    "corpus = []\n",
    "for doc in docs: #para cada documento\n",
    "    with open(doc,\"r\") as f: #usamos open en cada documento para leerlo\n",
    "        a=f.readlines()\n",
    "        for l in a: # para el texto de cada documento\n",
    "            corpus.append(l)\n",
    "#             c=re.split(' ',l) #separamos eltexto cada que encuentre un espacio y lo guardamos en una variable c que lo va a mostrar como listas\n",
    "#             for i in c:  #para el contenido de cada lista\n",
    "#                 corpus.append(i)   #lo pegamos en el array inicial corpus"
   ]
  },
  {
   "cell_type": "code",
   "execution_count": 191,
   "metadata": {},
   "outputs": [
    {
     "data": {
      "text/plain": [
       "['Ironhack is cool.\\n', 'I love Ironhack.\\n', 'I am a student at Ironhack.\\n']"
      ]
     },
     "execution_count": 191,
     "metadata": {},
     "output_type": "execute_result"
    }
   ],
   "source": [
    "corpus"
   ]
  },
  {
   "cell_type": "raw",
   "metadata": {},
   "source": [
    "You expected to see:\n",
    "\n",
    "['ironhack is cool', 'i love ironhack', 'i am a student at ironhack']\n",
    "\n",
    "But you actually saw:\n",
    "\n",
    "['Ironhack is cool.', 'I love Ironhack.', 'I am a student at Ironhack.']\n",
    "\n",
    "This is because you haven't done two important steps:\n",
    "\n",
    "Remove punctuation from the strings\n",
    "\n",
    "Convert strings to lowercase\n",
    "\n",
    "Write your code below to process corpus (convert to lower case and remove special characters)."
   ]
  },
  {
   "cell_type": "code",
   "execution_count": 249,
   "metadata": {},
   "outputs": [],
   "source": [
    "import re\n",
    "corpus = []\n",
    "pattern='\\n'\n",
    "for doc in docs: #para cada documento\n",
    "    with open(doc,\"r\") as f: #usamos open en cada documento para leerlo\n",
    "        a=f.readlines()\n",
    "#         print(a)\n",
    "        for l in a: # para el texto de cada documento\n",
    "            corpus.append(l.replace('.\\n','').lower()) #pegamos cada texto en el array vacio \"corpus\" y lo cambiamos a minúsculas todos los carácteres\n",
    "#             print(l)\n",
    "\n",
    "               \n"
   ]
  },
  {
   "cell_type": "code",
   "execution_count": 250,
   "metadata": {},
   "outputs": [
    {
     "data": {
      "text/plain": [
       "['ironhack is cool', 'i love ironhack', 'i am a student at ironhack']"
      ]
     },
     "execution_count": 250,
     "metadata": {},
     "output_type": "execute_result"
    }
   ],
   "source": [
    "corpus"
   ]
  },
  {
   "cell_type": "raw",
   "metadata": {},
   "source": [
    "Now define bag_of_words as an empty array. It will be used to store the unique terms in corpus.\n",
    "\n"
   ]
  },
  {
   "cell_type": "code",
   "execution_count": 270,
   "metadata": {},
   "outputs": [],
   "source": [
    "bag_of_words=[]"
   ]
  },
  {
   "cell_type": "code",
   "execution_count": 271,
   "metadata": {},
   "outputs": [],
   "source": [
    "for i in corpus:\n",
    "#     print(i)\n",
    "    a=re.split(' ',i)\n",
    "#     print(a)\n",
    "    for j in a:\n",
    "        bag_of_words.append(j)"
   ]
  },
  {
   "cell_type": "code",
   "execution_count": 272,
   "metadata": {},
   "outputs": [
    {
     "data": {
      "text/plain": [
       "['ironhack',\n",
       " 'is',\n",
       " 'cool',\n",
       " 'i',\n",
       " 'love',\n",
       " 'ironhack',\n",
       " 'i',\n",
       " 'am',\n",
       " 'a',\n",
       " 'student',\n",
       " 'at',\n",
       " 'ironhack']"
      ]
     },
     "execution_count": 272,
     "metadata": {},
     "output_type": "execute_result"
    }
   ],
   "source": [
    "bag_of_words\n"
   ]
  }
 ],
 "metadata": {
  "kernelspec": {
   "display_name": "Python 3",
   "language": "python",
   "name": "python3"
  },
  "language_info": {
   "codemirror_mode": {
    "name": "ipython",
    "version": 3
   },
   "file_extension": ".py",
   "mimetype": "text/x-python",
   "name": "python",
   "nbconvert_exporter": "python",
   "pygments_lexer": "ipython3",
   "version": "3.7.4"
  }
 },
 "nbformat": 4,
 "nbformat_minor": 2
}
