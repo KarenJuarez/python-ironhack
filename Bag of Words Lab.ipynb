{
 "cells": [
  {
   "cell_type": "markdown",
   "metadata": {},
   "source": [
    "# The Challenge"
   ]
  },
  {
   "cell_type": "raw",
   "metadata": {},
   "source": [
    "The Challenge\n",
    "We need to create a BoW from a list of documents. The documents (doc1.txt, doc2.txt, and doc3.txt) can be found in the your-code directory of this exercise. You will read the content of each document into an array of strings named corpus.\n",
    "\n",
    "What is a corpus (plural: corpora)? Read the reference in the README file.\n",
    "\n",
    "Your challenge is to use Python to generate the BoW of these documents. Your BoW should look like below:\n",
    "\n",
    "bag_of_words = ['a', 'am', 'at', 'cool', 'i', 'ironhack', 'is', 'love', 'student']\n",
    "\n",
    "term_freq = [\n",
    "    [0, 0, 0, 1, 0, 1, 1, 0, 0],\n",
    "    [0, 0, 0, 0, 1, 1, 0, 1, 0],\n",
    "    [1, 1, 1, 0, 1, 1, 0, 0, 1],\n",
    "]\n",
    "Now let's define the docs array that contains the paths of doc1.txt, doc2.txt, and doc3.txt."
   ]
  },
  {
   "cell_type": "code",
   "execution_count": 1,
   "metadata": {},
   "outputs": [],
   "source": [
    "docs = ['doc1.txt', 'doc2.txt', 'doc3.txt']\n"
   ]
  },
  {
   "cell_type": "raw",
   "metadata": {},
   "source": [
    "Define an empty array corpus that will contain the content strings of the docs. Loop docs and read the content of each doc into the corpus array.\n"
   ]
  },
  {
   "cell_type": "code",
   "execution_count": 2,
   "metadata": {},
   "outputs": [],
   "source": [
    "import re\n",
    "corpus = []\n",
    "for doc in docs: #para cada documento\n",
    "    with open(doc,\"r\") as f: #usamos open en cada documento para leerlo\n",
    "        a=f.readlines()\n",
    "        for l in a: # para el texto de cada documento\n",
    "            corpus.append(l)\n",
    "#             c=re.split(' ',l) #separamos eltexto cada que encuentre un espacio y lo guardamos en una variable c que lo va a mostrar como listas\n",
    "#             for i in c:  #para el contenido de cada lista\n",
    "#                 corpus.append(i)   #lo pegamos en el array inicial corpus"
   ]
  },
  {
   "cell_type": "code",
   "execution_count": 3,
   "metadata": {},
   "outputs": [
    {
     "data": {
      "text/plain": [
       "['Ironhack is cool.\\n', 'I love Ironhack.\\n', 'I am a student at Ironhack.\\n']"
      ]
     },
     "execution_count": 3,
     "metadata": {},
     "output_type": "execute_result"
    }
   ],
   "source": [
    "corpus"
   ]
  },
  {
   "cell_type": "raw",
   "metadata": {},
   "source": [
    "You expected to see:\n",
    "\n",
    "['ironhack is cool', 'i love ironhack', 'i am a student at ironhack']\n",
    "\n",
    "But you actually saw:\n",
    "\n",
    "['Ironhack is cool.', 'I love Ironhack.', 'I am a student at Ironhack.']\n",
    "\n",
    "This is because you haven't done two important steps:\n",
    "\n",
    "Remove punctuation from the strings\n",
    "\n",
    "Convert strings to lowercase\n",
    "\n",
    "Write your code below to process corpus (convert to lower case and remove special characters)."
   ]
  },
  {
   "cell_type": "code",
   "execution_count": 4,
   "metadata": {},
   "outputs": [],
   "source": [
    "import re\n",
    "corpus = []\n",
    "pattern='\\n'\n",
    "for doc in docs: #para cada documento\n",
    "    with open(doc,\"r\") as f: #usamos open en cada documento para leerlo\n",
    "        a=f.readlines()\n",
    "#         print(a)\n",
    "        for l in a: # para el texto de cada documento\n",
    "            corpus.append(l.replace('.\\n','').lower()) #pegamos cada texto en el array vacio \"corpus\" y lo cambiamos a minúsculas todos los carácteres\n",
    "#             print(l)\n",
    "\n",
    "               \n"
   ]
  },
  {
   "cell_type": "code",
   "execution_count": 69,
   "metadata": {},
   "outputs": [
    {
     "data": {
      "text/plain": [
       "['ironhack is cool', 'i love ironhack', 'i am a student at ironhack']"
      ]
     },
     "execution_count": 69,
     "metadata": {},
     "output_type": "execute_result"
    }
   ],
   "source": [
    "corpus"
   ]
  },
  {
   "cell_type": "raw",
   "metadata": {},
   "source": [
    "Now define bag_of_words as an empty array. It will be used to store the unique terms in corpus.\n",
    "\n"
   ]
  },
  {
   "cell_type": "code",
   "execution_count": 85,
   "metadata": {},
   "outputs": [],
   "source": [
    "bag_of_words1=[]"
   ]
  },
  {
   "cell_type": "raw",
   "metadata": {},
   "source": [
    "Loop through corpus. In each loop, do the following:\n",
    "\n",
    "Break the string into an array of terms.\n",
    "Create a sub-loop to iterate the terms array.\n",
    "In each sub-loop, you'll check if the current term is already contained in bag_of_words. If not in bag_of_words, append it to the array.\n"
   ]
  },
  {
   "cell_type": "code",
   "execution_count": 86,
   "metadata": {},
   "outputs": [],
   "source": [
    "bag_of_words=[]"
   ]
  },
  {
   "cell_type": "code",
   "execution_count": 87,
   "metadata": {},
   "outputs": [],
   "source": [
    "for i in corpus:\n",
    "    a=re.split(' ',i)\n",
    "    for j in a:\n",
    "            bag_of_words1.append(j)\n",
    "            for n in bag_of_words1:\n",
    "                if n not in bag_of_words:\n",
    "                    bag_of_words.append(n)\n",
    "                    "
   ]
  },
  {
   "cell_type": "code",
   "execution_count": 88,
   "metadata": {},
   "outputs": [
    {
     "data": {
      "text/plain": [
       "['ironhack',\n",
       " 'is',\n",
       " 'cool',\n",
       " 'i',\n",
       " 'love',\n",
       " 'ironhack',\n",
       " 'i',\n",
       " 'am',\n",
       " 'a',\n",
       " 'student',\n",
       " 'at',\n",
       " 'ironhack']"
      ]
     },
     "execution_count": 88,
     "metadata": {},
     "output_type": "execute_result"
    }
   ],
   "source": [
    "bag_of_words1"
   ]
  },
  {
   "cell_type": "code",
   "execution_count": 89,
   "metadata": {},
   "outputs": [
    {
     "data": {
      "text/plain": [
       "['ironhack', 'is', 'cool', 'i', 'love', 'am', 'a', 'student', 'at']"
      ]
     },
     "execution_count": 89,
     "metadata": {},
     "output_type": "execute_result"
    }
   ],
   "source": [
    "bag_of_words"
   ]
  },
  {
   "cell_type": "raw",
   "metadata": {},
   "source": [
    "Now we define an empty array called term_freq. Loop corpus for a second time. In each loop, create a sub-loop to iterate the terms in bag_of_words. Count how many times each term appears in each doc of corpus. Append the term-frequency array to term_freq."
   ]
  },
  {
   "cell_type": "code",
   "execution_count": 90,
   "metadata": {},
   "outputs": [],
   "source": [
    "term_freq=[]\n"
   ]
  },
  {
   "cell_type": "code",
   "execution_count": 91,
   "metadata": {},
   "outputs": [],
   "source": [
    "for frase in corpus:\n",
    "    term_fr=[]\n",
    "    for j in bag_of_words:\n",
    "        if j in frase:\n",
    "            term_fr.append(1)\n",
    "        else:\n",
    "            term_fr.append(0)\n",
    "    term_freq.append(term_fr)       "
   ]
  },
  {
   "cell_type": "code",
   "execution_count": 77,
   "metadata": {},
   "outputs": [
    {
     "data": {
      "text/plain": [
       "[[1, 1, 1, 1, 0, 0, 1, 0, 0],\n",
       " [1, 0, 0, 1, 1, 0, 1, 0, 0],\n",
       " [1, 0, 0, 1, 0, 1, 1, 1, 1]]"
      ]
     },
     "execution_count": 77,
     "metadata": {},
     "output_type": "execute_result"
    }
   ],
   "source": [
    "term_freq"
   ]
  },
  {
   "cell_type": "markdown",
   "metadata": {},
   "source": [
    "Bonus Question\n"
   ]
  },
  {
   "cell_type": "raw",
   "metadata": {},
   "source": [
    "Optimize your solution for the above question by removing stop words from the BoW. For your convenience, a list of stop words is defined for you in the next cell. With the stop words removed, your output should look like:\n",
    "\n",
    "bag_of_words = [am', 'at', 'cool', ironhack', 'is', 'love', 'student']\n",
    "\n",
    "term_freq = [\n",
    "    [0, 0, 1, 1, 1, 0, 0],\n",
    "     [0, 0, 0, 1, 0, 1, 0],\n",
    "     [1, 1, 0, 1, 0, 0, 1]\n",
    "]\n",
    "Requirements:\n",
    "\n",
    "Combine all your previous codes to the cell below.\n",
    "Improve your solution by ignoring stop words in bag_of_words.\n",
    "After you're done, your bag_of_words should be:\n",
    "\n",
    "['ironhack', 'is', 'cool', 'love', 'am', 'student', 'at']\n",
    "\n",
    "And your term_freq should be:\n",
    "\n",
    "[[1, 1, 1, 0, 0, 0, 0], [1, 0, 0, 1, 0, 0, 0], [1, 0, 0, 0, 1, 1, 1]]"
   ]
  },
  {
   "cell_type": "code",
   "execution_count": 92,
   "metadata": {},
   "outputs": [],
   "source": [
    "stop_words = ['all', 'six', 'less', 'being', 'indeed', 'over', 'move', 'anyway', 'fifty', 'four', 'not', 'own', 'through',\n",
    "              'yourselves', 'go', 'where', 'mill', 'only', 'find', 'before', 'one', 'whose', 'system', 'how', 'somewhere',\n",
    "              'with', 'thick', 'show', 'had', 'enough', 'should', 'to', 'must', 'whom', 'seeming', 'under', 'ours', 'has', \n",
    "              'might', 'thereafter', 'latterly', 'do', 'them', 'his', 'around', 'than', 'get', 'very', 'de', 'none', 'cannot',\n",
    "              'every', 'whether', 'they', 'front', 'during', 'thus', 'now', 'him', 'nor', 'name', 'several', 'hereafter', \n",
    "              'always', 'who', 'cry', 'whither', 'this', 'someone', 'either', 'each', 'become', 'thereupon', 'sometime', \n",
    "              'side', 'two', 'therein', 'twelve', 'because', 'often', 'ten', 'our', 'eg', 'some', 'back', 'up', 'namely', \n",
    "              'towards', 'are', 'further', 'beyond', 'ourselves', 'yet', 'out', 'even', 'will', 'what', 'still', 'for',\n",
    "              'bottom', 'mine', 'since', 'please', 'forty', 'per', 'its', 'everything', 'behind', 'un', 'above', 'between',\n",
    "              'it', 'neither', 'seemed', 'ever', 'across', 'she', 'somehow', 'be', 'we', 'full', 'never', 'sixty', 'however', \n",
    "              'here', 'otherwise', 'were', 'whereupon', 'nowhere', 'although', 'found', 'alone', 're', 'along', 'fifteen', \n",
    "              'by', 'both', 'about', 'last', 'would', 'anything', 'via', 'many', 'could', 'thence', 'put', 'against', 'keep',\n",
    "              'etc', 'amount', 'became', 'ltd', 'hence', 'onto', 'or', 'con', 'among', 'already', 'co', 'afterwards', \n",
    "              'formerly', 'within', 'seems', 'into', 'others', 'while', 'whatever', 'except', 'down', 'hers', 'everyone',\n",
    "              'done', 'least', 'another', 'whoever', 'moreover', 'couldnt', 'throughout', 'anyhow', 'yourself', 'three', \n",
    "              'from', 'her', 'few', 'together', 'top', 'there', 'due', 'been', 'next', 'anyone', 'eleven', 'much', 'call',\n",
    "              'therefore', 'interest', 'then', 'thru', 'themselves', 'hundred', 'was', 'sincere', 'empty', 'more', 'himself', \n",
    "              'elsewhere', 'mostly', 'on', 'fire', 'am', 'becoming', 'hereby', 'amongst', 'else', 'part', 'everywhere', 'too',\n",
    "              'herself', 'former', 'those', 'he', 'me', 'myself', 'made', 'twenty', 'these', 'bill', 'cant', 'us', 'until',\n",
    "              'besides', 'nevertheless', 'below', 'anywhere', 'nine', 'can', 'of', 'your', 'toward', 'my', 'something', 'and',\n",
    "              'whereafter', 'whenever', 'give', 'almost', 'wherever', 'is', 'describe', 'beforehand', 'herein', 'an', 'as',\n",
    "              'itself', 'at', 'have', 'in', 'seem', 'whence', 'ie', 'any', 'fill', 'again', 'hasnt', 'inc', 'thereby', 'thin',\n",
    "              'no', 'perhaps', 'latter', 'meanwhile', 'when', 'detail', 'same', 'wherein', 'beside', 'also', 'that', 'other',\n",
    "              'take', 'which', 'becomes', 'you', 'if', 'nobody', 'see', 'though', 'may', 'after', 'upon', 'most', 'hereupon',\n",
    "              'eight', 'but', 'serious', 'nothing', 'such', 'why', 'a', 'off', 'whereby', 'third', 'i', 'whole', 'noone',\n",
    "              'sometimes', 'well', 'amoungst', 'yours', 'their', 'rather', 'without', 'so', 'five', 'the', 'first', 'whereas', 'once']"
   ]
  },
  {
   "cell_type": "code",
   "execution_count": 107,
   "metadata": {},
   "outputs": [
    {
     "name": "stdout",
     "output_type": "stream",
     "text": [
      "['ironhack', 'cool', 'love', 'student']\n"
     ]
    }
   ],
   "source": [
    "for i in stop_words:\n",
    "    if i in bag_of_words:\n",
    "        bag_of_words.remove(i)\n",
    "print(bag_of_words)        "
   ]
  },
  {
   "cell_type": "code",
   "execution_count": 108,
   "metadata": {},
   "outputs": [
    {
     "name": "stdout",
     "output_type": "stream",
     "text": [
      "[[1, 1, 0, 0], [1, 0, 1, 0], [1, 0, 0, 1]]\n"
     ]
    }
   ],
   "source": [
    "term_freq=[]\n",
    "for frase in corpus:\n",
    "    term_fr=[]\n",
    "    for j in bag_of_words:\n",
    "        if j in frase:\n",
    "            term_fr.append(1)\n",
    "        else:\n",
    "            term_fr.append(0)\n",
    "    term_freq.append(term_fr)   \n",
    "print(term_freq)    "
   ]
  }
 ],
 "metadata": {
  "kernelspec": {
   "display_name": "Python 3",
   "language": "python",
   "name": "python3"
  },
  "language_info": {
   "codemirror_mode": {
    "name": "ipython",
    "version": 3
   },
   "file_extension": ".py",
   "mimetype": "text/x-python",
   "name": "python",
   "nbconvert_exporter": "python",
   "pygments_lexer": "ipython3",
   "version": "3.7.4"
  }
 },
 "nbformat": 4,
 "nbformat_minor": 2
}
